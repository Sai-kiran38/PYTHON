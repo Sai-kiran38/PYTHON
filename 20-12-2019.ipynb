{
 "cells": [
  {
   "cell_type": "markdown",
   "metadata": {},
   "source": [
    "#include <stdio.h>\n",
    "\n",
    "int main()\n",
    "{\n",
    "   int n,i,c=0;\n",
    "   scanf(\"%d\",&n);\n",
    "   for(i=2;i<=n/2;i++)\n",
    "   {\n",
    "       if(n%i==0)\n",
    "       {\n",
    "           c++;\n",
    "           \n",
    "       }\n",
    "   }\n",
    "       if(c==0)\n",
    "           printf(\"prime\");\n",
    "       else\n",
    "       printf(\"not\");\n",
    " \n",
    "\n",
    "    return 0;\n",
    "}\n"
   ]
  },
  {
   "cell_type": "markdown",
   "metadata": {},
   "source": [
    "#include <stdio.h>\n",
    "int main()\n",
    "{\n",
    "   int n,i,c,s=0,range,count=0,k;\n",
    "   scanf(\"%d\",&k);\n",
    "   for(n=2;count<k;n++)\n",
    "   {\n",
    "       c=0;\n",
    "   for(i=2;i<=n/2;i++)\n",
    "   {\n",
    "       if(n%i==0)\n",
    "           c++;\n",
    "   }\n",
    "       if(c==0)\n",
    "       {\n",
    "       count++;\n",
    "           printf(\"%d=%d\\t\",count,n);\n",
    "       }\n",
    "}\n",
    "printf(\"%d=%d\\t\",count,n-1);\n",
    "    return 0;\n",
    "}\n"
   ]
  },
  {
   "cell_type": "markdown",
   "metadata": {},
   "source": [
    "#include<stdio.h>\n",
    "int main()\n",
    "{\n",
    "    int i,j,k;\n",
    "    for(i=1;i<=5;i++)\n",
    "    {\n",
    "        for(j=1;j<=i;j++)\n",
    "        {\n",
    "            printf(\"%c\",j+64);\n",
    "        }\n",
    "        printf(\"\\n\");\n",
    "    }\n",
    "}"
   ]
  },
  {
   "cell_type": "code",
   "execution_count": null,
   "metadata": {},
   "outputs": [],
   "source": []
  }
 ],
 "metadata": {
  "kernelspec": {
   "display_name": "Python 3",
   "language": "python",
   "name": "python3"
  },
  "language_info": {
   "codemirror_mode": {
    "name": "ipython",
    "version": 3
   },
   "file_extension": ".py",
   "mimetype": "text/x-python",
   "name": "python",
   "nbconvert_exporter": "python",
   "pygments_lexer": "ipython3",
   "version": "3.7.3"
  }
 },
 "nbformat": 4,
 "nbformat_minor": 2
}
