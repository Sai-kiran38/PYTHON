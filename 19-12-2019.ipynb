{
 "cells": [
  {
   "cell_type": "markdown",
   "metadata": {},
   "source": [
    "#include <stdio.h>\n",
    "\n",
    "int main()\n",
    "{\n",
    "    int c;\n",
    "    c=20/200*200;\n",
    "    printf(\"%d\",c);\n",
    "\n",
    "    return 0;\n",
    "}\n"
   ]
  },
  {
   "cell_type": "markdown",
   "metadata": {},
   "source": [
    "#include <stdio.h>\n",
    "\n",
    "int main()\n",
    "{\n",
    "    int c;\n",
    "    c=20.0/200*200;\n",
    "    printf(\"%d\",c);\n",
    "\n",
    "    return 0;\n",
    "}"
   ]
  },
  {
   "cell_type": "markdown",
   "metadata": {},
   "source": [
    "#include <stdio.h>\n",
    "\n",
    "int main()\n",
    "{\n",
    "    int c;\n",
    "    c=(float)20/200*200;\n",
    "    printf(\"%d\",c);\n",
    "\n",
    "    return 0;\n",
    "}"
   ]
  },
  {
   "cell_type": "markdown",
   "metadata": {},
   "source": [
    "#include<stdio.h>\n",
    "#include<limits.h>\n",
    "int main()\n",
    "{\n",
    "    int n;\n",
    "    printf(\"enter num value\");\n",
    "    scanf(\"%d\",&n);\n",
    "    if(n%2!=0&&n%3!=0&&n%5!=0&&n%7!=0)\n",
    "    printf(\"prime number\");\n",
    "    else\n",
    "    printf(\"not a prime number\");\n",
    "}"
   ]
  },
  {
   "cell_type": "markdown",
   "metadata": {},
   "source": [
    "#include<stdio.h>\n",
    "#include<limits.h>\n",
    "int main()\n",
    "{\n",
    "    int a,b,op;\n",
    "    scanf(\"%d%d\",&a,&b);\n",
    "    scanf(\"%d\",&op);\n",
    "    switch(op)\n",
    "    {\n",
    "        case 1:printf(\"%d\",a+b); break;\n",
    "        case 2:printf(\"%d\",a-b); break;\n",
    "        case 3:printf(\"%d\",a*b); break;\n",
    "        case 4:printf(\"%d\",a/b); break;\n",
    "        case 5:printf(\"%d\",a%b); break;\n",
    "        default:printf(\"invalid input\"); break;\n",
    "    }\n",
    "}"
   ]
  },
  {
   "cell_type": "markdown",
   "metadata": {},
   "source": [
    "#include<stdio.h>\n",
    "#include<limits.h>\n",
    "int main()\n",
    "{\n",
    "    int a,b;\n",
    "    char op;\n",
    "    scanf(\"%d%d\",&a,&b);\n",
    "    scanf(\" %c\",&op);\n",
    "    switch(op)\n",
    "    {\n",
    "        case '+':printf(\"%d\",a+b); break;\n",
    "        case '-':printf(\"%d\",a-b); break;\n",
    "        case '*':printf(\"%d\",a*b); break;\n",
    "        case '/':printf(\"%d\",a/b); break;\n",
    "        case '%':printf(\"%d\",a%b); break;\n",
    "       // case '\\n':printf(\"hello\"); break;\n",
    "        default:printf(\"invalid input\"); break;\n",
    "    }\n",
    "}"
   ]
  },
  {
   "cell_type": "markdown",
   "metadata": {},
   "source": [
    "#include<stdio.h>\n",
    "void main()\n",
    "{\n",
    "    int i;\n",
    "    for(i=0;i<100;i+=2)\n",
    "    printf(\"%d\",i);\n",
    "}"
   ]
  },
  {
   "cell_type": "markdown",
   "metadata": {},
   "source": [
    "#include<stdio.h>\n",
    "void main()\n",
    "{\n",
    "    int n,sum=0,rem;\n",
    "    scanf(\"%d\",&n);\n",
    "    while(n!=0)\n",
    "    {\n",
    "    rem=n%10;\n",
    "    printf(\"%d \\n\",sum);\n",
    "    sum=sum+rem;\n",
    "    n=n/10;\n",
    "    }\n",
    "    printf(\"%d\",sum);\n",
    "}"
   ]
  },
  {
   "cell_type": "markdown",
   "metadata": {},
   "source": [
    "#include<stdio.h>\n",
    "void main()\n",
    "{\n",
    "    int n,sum=0,sum1=0,rem,c=0;\n",
    "    scanf(\"%d\",&n);\n",
    "    while(n!=0)\n",
    "    {\n",
    "    rem=n%10;\n",
    "    printf(\"%d \\n\",rem);\n",
    "    sum=sum+rem;\n",
    "    sum1=sum1*10+rem;\n",
    "    n=n/10;\n",
    "    c++;\n",
    "    }\n",
    "    printf(\"sum is %d and count is %d,reverse of num is %d\\n\",sum,c,sum1);\n",
    "}"
   ]
  },
  {
   "cell_type": "markdown",
   "metadata": {},
   "source": [
    "#include<stdio.h>\n",
    "#include<math.h>\n",
    "void main()\n",
    "{\n",
    "    int n,sum,rem,c,range,t;\n",
    "    scanf(\"%d\",&range);\n",
    "    for(n=1;n<=range;n++)\n",
    "    {\n",
    "    t=n;\n",
    "    sum=0;\n",
    "    c=0;\n",
    "    while(t!=0)\n",
    "    {\n",
    "        c++;\n",
    "    t=t/10;\n",
    "    }\n",
    "    t=n;\n",
    "    while(t!=0)\n",
    "    {\n",
    "     rem=t%10;\n",
    "     sum=sum+pow(rem,c);\n",
    "     t=t/10;\n",
    "    }\n",
    "    if(n==sum)\n",
    "    printf(\"%5d\",n);\n",
    "    }\n",
    "}"
   ]
  },
  {
   "cell_type": "raw",
   "metadata": {},
   "source": [
    "#include<stdio.h>\n",
    "#include<math.h>\n",
    "void main()\n",
    "{\n",
    "    int n,sum,rem,c=0,range,k,t;\n",
    "    scanf(\"%d\",&k);\n",
    "    for(n=1;c<k;n++)\n",
    "    {\n",
    "    t=n;\n",
    "    sum=0;\n",
    "    while(t!=0)\n",
    "    {\n",
    "     rem=t%10;\n",
    "     sum=sum*10+rem;\n",
    "     t=t/10;\n",
    "    }\n",
    "    if(n==sum)\n",
    "    c++;\n",
    "    }\n",
    "        printf(\"%d=%2d\",c,n-1);\n",
    "\n",
    "}\n"
   ]
  }
 ],
 "metadata": {
  "kernelspec": {
   "display_name": "Python 3",
   "language": "python",
   "name": "python3"
  },
  "language_info": {
   "codemirror_mode": {
    "name": "ipython",
    "version": 3
   },
   "file_extension": ".py",
   "mimetype": "text/x-python",
   "name": "python",
   "nbconvert_exporter": "python",
   "pygments_lexer": "ipython3",
   "version": "3.7.3"
  }
 },
 "nbformat": 4,
 "nbformat_minor": 2
}
