{
 "cells": [
  {
   "cell_type": "markdown",
   "metadata": {},
   "source": [
    "# collection of Data Structure types:\n",
    "- List\n",
    "- Tuple\n",
    "- Set\n",
    "- Dictionary"
   ]
  },
  {
   "cell_type": "markdown",
   "metadata": {},
   "source": [
    "# List:\n",
    "- one of the data structure in python\n",
    "- Data structure means to store,sort and search options\n",
    "- its one common data structure in python,the items of list separated by comma and enclosed by square brackets\n"
   ]
  },
  {
   "cell_type": "markdown",
   "metadata": {},
   "source": [
    "example:\n",
    "- list1=[1,2,3,4]\n",
    "- list2=[\"gitam\",1,2,3]"
   ]
  },
  {
   "cell_type": "code",
   "execution_count": 9,
   "metadata": {},
   "outputs": [
    {
     "name": "stdout",
     "output_type": "stream",
     "text": [
      "[1, 8, 6, 9, 12]\n",
      "6\n",
      "12 1\n",
      "[6, 9, 12]\n",
      "[6, 9]\n",
      "[6, 9]\n"
     ]
    }
   ],
   "source": [
    "li=[1,8,6,9,12]\n",
    "print(li)\n",
    "print(li[-3])\n",
    "print(li[4],li[-5])\n",
    "print(li[2:])\n",
    "print(li[2:4])\n",
    "print(li[-3:-1])"
   ]
  },
  {
   "cell_type": "code",
   "execution_count": 2,
   "metadata": {},
   "outputs": [
    {
     "name": "stdout",
     "output_type": "stream",
     "text": [
      "['Gitam', 1234, 12345, 123456]\n",
      "t\n"
     ]
    }
   ],
   "source": [
    "l=[\"Gitam\",1234,12345,123456]\n",
    "print(l)\n",
    "print(l[0][2])"
   ]
  },
  {
   "cell_type": "code",
   "execution_count": 3,
   "metadata": {},
   "outputs": [
    {
     "name": "stdout",
     "output_type": "stream",
     "text": [
      "['Gitam', 1234, 123456]\n"
     ]
    }
   ],
   "source": [
    "del l[2]\n",
    "print(l)"
   ]
  },
  {
   "cell_type": "code",
   "execution_count": 4,
   "metadata": {},
   "outputs": [
    {
     "name": "stdout",
     "output_type": "stream",
     "text": [
      "['Gitam', 123, 123456]\n"
     ]
    }
   ],
   "source": [
    "# update\n",
    "l[1]=123\n",
    "print(l)"
   ]
  },
  {
   "cell_type": "code",
   "execution_count": 7,
   "metadata": {},
   "outputs": [
    {
     "name": "stdout",
     "output_type": "stream",
     "text": [
      "67\n",
      "1\n",
      "82\n",
      "6\n",
      "13\n"
     ]
    }
   ],
   "source": [
    "# basic list functions\n",
    "li=[1,2,3,4,5,67]\n",
    "print(max(li))\n",
    "print(min(li))\n",
    "print(sum(li))\n",
    "print(len(li))\n",
    "print(sum(li)//len(li))"
   ]
  },
  {
   "cell_type": "code",
   "execution_count": 23,
   "metadata": {},
   "outputs": [
    {
     "name": "stdout",
     "output_type": "stream",
     "text": [
      "1\n",
      "[1, 2, 4, 3, 4, 5]\n"
     ]
    }
   ],
   "source": [
    "li2=[1,2,3,4,5]\n",
    "li2.append(50)\n",
    "li2.insert(2,4)\n",
    "print(li2.count(3))\n",
    "li2.pop()\n",
    "print(li2)"
   ]
  },
  {
   "cell_type": "code",
   "execution_count": 30,
   "metadata": {},
   "outputs": [
    {
     "name": "stdout",
     "output_type": "stream",
     "text": [
      "0\n",
      "[234, 345, 654, 657, 4325]\n"
     ]
    }
   ],
   "source": [
    "l3=[345,4325,657,654,234]\n",
    "l3.sort()\n",
    "print(l3.index(234))\n",
    "print(l3)"
   ]
  },
  {
   "cell_type": "markdown",
   "metadata": {},
   "source": [
    "### del-delete the list item from the list\n",
    "#### pop-remove last index value\n",
    "##### pop(index)-removes the items from specified index"
   ]
  },
  {
   "cell_type": "code",
   "execution_count": 39,
   "metadata": {},
   "outputs": [
    {
     "name": "stdout",
     "output_type": "stream",
     "text": [
      "[1, 9, 116, 24, 5, 6]\n",
      "[345, 453, 675]\n",
      "[1, 9, 116, 24, 5, 6, 345, 453, 675]\n",
      "[675, 453, 345]\n"
     ]
    }
   ],
   "source": [
    "l4=[1,9,116,24,5,6]\n",
    "l5=[345,453,675]\n",
    "print(l4)\n",
    "print(l5)\n",
    "l4.extend(l5)\n",
    "l5.reverse()\n",
    "print(l4)\n",
    "print(l5)"
   ]
  },
  {
   "cell_type": "code",
   "execution_count": 40,
   "metadata": {},
   "outputs": [
    {
     "name": "stdout",
     "output_type": "stream",
     "text": [
      "76\n",
      "45\n"
     ]
    }
   ],
   "source": [
    "# function to return the large number from the list\n",
    "def largenumber(l6):\n",
    "    l6.sort()\n",
    "    return l6[-1]\n",
    "def genericlarge(l6,n):\n",
    "    l6.sort()\n",
    "    return l6[-n]\n",
    "l6=[19,1,25,45,76]\n",
    "print(largenumber(l6))\n",
    "print(genericlarge(l6,2))"
   ]
  },
  {
   "cell_type": "code",
   "execution_count": 43,
   "metadata": {},
   "outputs": [
    {
     "name": "stdout",
     "output_type": "stream",
     "text": [
      "1\n",
      "25\n"
     ]
    }
   ],
   "source": [
    "def smallnumber(l6):\n",
    "    l6.sort()\n",
    "    return l6[0]\n",
    "def genericsmall(l6,n):\n",
    "    l6.sort()\n",
    "    return l6[n]\n",
    "l6=[19,1,25,45,76]\n",
    "print(smallnumber(l6))\n",
    "print(genericsmall(l6,2))"
   ]
  },
  {
   "cell_type": "markdown",
   "metadata": {},
   "source": [
    "## Tuple\n",
    "- its one common data structure in python,the items of tuple separated by comma and enclosed by parenthesis()\n",
    "- example:\n",
    "t=(1,2,3,4)"
   ]
  },
  {
   "cell_type": "markdown",
   "metadata": {},
   "source": [
    "## list and tuple\n",
    "- in list are mutable - can be changed/modified\n",
    "- list is used to modify,add,delete,update\n",
    "- tuple are immutable-cannot be changed\n",
    "- tuple is used to access data only"
   ]
  },
  {
   "cell_type": "code",
   "execution_count": 44,
   "metadata": {},
   "outputs": [
    {
     "name": "stdout",
     "output_type": "stream",
     "text": [
      "(1, 2, 3, 4)\n"
     ]
    }
   ],
   "source": [
    "t1=(1,2,3,4)\n",
    "print(t1)"
   ]
  },
  {
   "cell_type": "markdown",
   "metadata": {},
   "source": [
    "# Dictionaries\n",
    "- it works on concept of set unique data\n",
    "- dictionary contains keys and values\n",
    "- each key and value are separated by comma(,)\n",
    "- each key is separated from its value with colon(:)"
   ]
  },
  {
   "cell_type": "code",
   "execution_count": 2,
   "metadata": {},
   "outputs": [
    {
     "name": "stdout",
     "output_type": "stream",
     "text": [
      "{'name': 'KIRAN', 'email': 'gitam@in', 'address': 'hyderabad'}\n"
     ]
    }
   ],
   "source": [
    "d1={\"name\":\"gitam\",\"email\":\"gitam@in\",\"address\":\"hyderabad\"}\n",
    "d1['name']='KIRAN'\n",
    "print(d1)"
   ]
  },
  {
   "cell_type": "code",
   "execution_count": 3,
   "metadata": {},
   "outputs": [
    {
     "data": {
      "text/plain": [
       "'KIRAN'"
      ]
     },
     "execution_count": 3,
     "metadata": {},
     "output_type": "execute_result"
    }
   ],
   "source": [
    "d1[\"name\"]"
   ]
  },
  {
   "cell_type": "code",
   "execution_count": 4,
   "metadata": {},
   "outputs": [
    {
     "name": "stdout",
     "output_type": "stream",
     "text": [
      "{'name': 'KIRAN', 'email': 'gitam@in', 'address': 'hyderabad', 'roll_no': '221710311038'}\n"
     ]
    }
   ],
   "source": [
    "d1['roll_no']='221710311038'\n",
    "print(d1)"
   ]
  },
  {
   "cell_type": "code",
   "execution_count": 5,
   "metadata": {},
   "outputs": [
    {
     "name": "stdout",
     "output_type": "stream",
     "text": [
      "{'name': 'KIRAN', 'address': 'hyderabad', 'roll_no': '221710311038'}\n"
     ]
    }
   ],
   "source": [
    "del d1['email']\n",
    "print(d1)"
   ]
  },
  {
   "cell_type": "code",
   "execution_count": 58,
   "metadata": {},
   "outputs": [
    {
     "data": {
      "text/plain": [
       "dict_keys(['name', 'address', 'roll_no'])"
      ]
     },
     "execution_count": 58,
     "metadata": {},
     "output_type": "execute_result"
    }
   ],
   "source": [
    "d1.keys()"
   ]
  },
  {
   "cell_type": "code",
   "execution_count": 53,
   "metadata": {},
   "outputs": [
    {
     "data": {
      "text/plain": [
       "dict_values(['KIRAN', 'hyderabad', '221710311038'])"
      ]
     },
     "execution_count": 53,
     "metadata": {},
     "output_type": "execute_result"
    }
   ],
   "source": [
    "d1.values()"
   ]
  },
  {
   "cell_type": "code",
   "execution_count": 6,
   "metadata": {},
   "outputs": [
    {
     "data": {
      "text/plain": [
       "dict_items([('name', 'KIRAN'), ('address', 'hyderabad'), ('roll_no', '221710311038')])"
      ]
     },
     "execution_count": 6,
     "metadata": {},
     "output_type": "execute_result"
    }
   ],
   "source": [
    "d1.items()"
   ]
  },
  {
   "cell_type": "markdown",
   "metadata": {},
   "source": [
    "# Strings:"
   ]
  },
  {
   "cell_type": "code",
   "execution_count": 6,
   "metadata": {},
   "outputs": [
    {
     "name": "stdout",
     "output_type": "stream",
     "text": [
      "python\n",
      "<class 'str'>\n"
     ]
    }
   ],
   "source": [
    "s1=\"python\"\n",
    "print(s1)\n",
    "print(type(s1))"
   ]
  },
  {
   "cell_type": "code",
   "execution_count": 3,
   "metadata": {},
   "outputs": [
    {
     "name": "stdout",
     "output_type": "stream",
     "text": [
      "o\n",
      "o\n",
      "ytho\n",
      "h\n",
      "pto\n"
     ]
    }
   ],
   "source": [
    "s1=\"python\"\n",
    "print(s1[4])\n",
    "print(s1[len(s1)-2])\n",
    "print(s1[1:-1])\n",
    "print(s1[len(s1)//2])\n",
    "print(s1[::2])"
   ]
  },
  {
   "cell_type": "markdown",
   "metadata": {},
   "source": [
    "# String built in methods:\n",
    "- upper\n",
    "- lower\n",
    "- islower\n",
    "- isupper\n",
    "- istitle\n",
    "- isnumeric\n",
    "- isalpha\n",
    "- isspace"
   ]
  },
  {
   "cell_type": "code",
   "execution_count": 12,
   "metadata": {},
   "outputs": [
    {
     "name": "stdout",
     "output_type": "stream",
     "text": [
      "KIRAN\n",
      "kiran\n",
      "False\n",
      "False\n",
      "True\n",
      "False\n",
      "True\n"
     ]
    }
   ],
   "source": [
    "s2=\"Kiran\"\n",
    "print(s2.upper())\n",
    "print(s2.lower())\n",
    "print(s2.isupper())\n",
    "print(s2.islower())\n",
    "print(s2.istitle())\n",
    "print(s2.isnumeric())\n",
    "print(s2.isalpha())"
   ]
  },
  {
   "cell_type": "code",
   "execution_count": 17,
   "metadata": {},
   "outputs": [
    {
     "name": "stdout",
     "output_type": "stream",
     "text": [
      "True\n"
     ]
    }
   ],
   "source": [
    "s1=' '\n",
    "print(s1.isspace())"
   ]
  },
  {
   "cell_type": "markdown",
   "metadata": {},
   "source": [
    "# String methods:\n",
    "- join()\n",
    "- split()\n",
    "- replace()"
   ]
  },
  {
   "cell_type": "code",
   "execution_count": 26,
   "metadata": {},
   "outputs": [
    {
     "name": "stdout",
     "output_type": "stream",
     "text": [
      "s a i\n",
      "['kiran']\n",
      "charan\n"
     ]
    }
   ],
   "source": [
    "s='sai'\n",
    "s1='kiran'\n",
    "print(' '.join(s))\n",
    "print(s1.split())\n",
    "print(s1.replace('kiran','charan'))"
   ]
  },
  {
   "cell_type": "code",
   "execution_count": null,
   "metadata": {},
   "outputs": [],
   "source": []
  }
 ],
 "metadata": {
  "kernelspec": {
   "display_name": "Python 3",
   "language": "python",
   "name": "python3"
  },
  "language_info": {
   "codemirror_mode": {
    "name": "ipython",
    "version": 3
   },
   "file_extension": ".py",
   "mimetype": "text/x-python",
   "name": "python",
   "nbconvert_exporter": "python",
   "pygments_lexer": "ipython3",
   "version": "3.7.3"
  }
 },
 "nbformat": 4,
 "nbformat_minor": 2
}
