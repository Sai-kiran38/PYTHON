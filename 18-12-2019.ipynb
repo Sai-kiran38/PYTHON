{
 "cells": [
  {
   "cell_type": "markdown",
   "metadata": {},
   "source": [
    "#include <stdio.h>\n",
    "#include<limits.h>\n",
    "\n",
    "int main()\n",
    "{\n",
    "    int a,a1;\n",
    "    a=INT_MAX;     //gives the largest integer number\n",
    "    a1=INT_MIN;    //gives the smallest integer number\n",
    "    printf(\"%d\",a);\n",
    "    printf(\"\\n\");\n",
    "    printf(\"%d\",a1);\n",
    "    \n",
    "  return 0;\n",
    "}\n"
   ]
  },
  {
   "cell_type": "markdown",
   "metadata": {},
   "source": [
    "#include<stdio.h>\n",
    "#include<limits.h>\n",
    "void main()\n",
    "{\n",
    "    int i=65;\n",
    "    for(i=0;i<=200;i++)\n",
    "    printf(\"%c=%d\",i,i);\n",
    "}"
   ]
  },
  {
   "cell_type": "markdown",
   "metadata": {},
   "source": [
    "#include<stdio.h>\n",
    "#include<limits.h>\n",
    "void main()\n",
    "{\n",
    "    printf(\"%d\",'+');\n",
    "}"
   ]
  },
  {
   "cell_type": "markdown",
   "metadata": {},
   "source": [
    "#include <stdio.h>\n",
    "\n",
    "int main()\n",
    "{\n",
    "    printf(\"bcd\\nxyz\\n\");\n",
    "    printf(\"bcd\\bxyz\\n\");\n",
    "    printf(\"abcd\\fxyz\\n\");\n",
    "    printf(\"abcd\\rxyz\\n\");\n",
    "    return 0;\n",
    "}\n"
   ]
  },
  {
   "cell_type": "markdown",
   "metadata": {},
   "source": [
    "#include<stdio.h>\n",
    "#include<limits.h>\n",
    "int main()\n",
    "{\n",
    "    int i=0x35;\n",
    "    printf(\"%d\",i);\n",
    "}"
   ]
  },
  {
   "cell_type": "markdown",
   "metadata": {},
   "source": [
    "#include<stdio.h>\n",
    "#include<limits.h>\n",
    "#include<math.h>\n",
    "int main()\n",
    "{\n",
    "    float a;\n",
    "    a=fmod(20.2,3.5);\n",
    "    printf(\"%f\",a);\n",
    "}"
   ]
  },
  {
   "cell_type": "markdown",
   "metadata": {},
   "source": [
    "#include<stdio.h>\n",
    "#include<limits.h>\n",
    "int main()\n",
    "{\n",
    "    int a=5;\n",
    "    printf(\"%d\\n\",a++);\n",
    "    printf(\"%d\",a);\n",
    "}\n"
   ]
  },
  {
   "cell_type": "markdown",
   "metadata": {},
   "source": [
    "#include<stdio.h>\n",
    "#include<limits.h>\n",
    "int main()\n",
    "{\n",
    "    int c;\n",
    "    c=printf(\"hello\\n\");\n",
    "    printf(\"\\n%d\",c);\n",
    "}\n"
   ]
  },
  {
   "cell_type": "markdown",
   "metadata": {},
   "source": [
    "#include<stdio.h>\n",
    "#include<limits.h>\n",
    "int main()\n",
    "{\n",
    "    int c,a,b;\n",
    "    c=scanf(\"%d%d\",&a,&b);\n",
    "    printf(\"\\n%d\",c);\n",
    "}\n"
   ]
  },
  {
   "cell_type": "markdown",
   "metadata": {},
   "source": [
    "#include<stdio.h>\n",
    "#include<limits.h>\n",
    "int main()\n",
    "{\n",
    "    int c,a=5,b=9;\n",
    "    c=b||++a;\n",
    "    printf(\"%d\",a);\n",
    "}\n"
   ]
  },
  {
   "cell_type": "markdown",
   "metadata": {},
   "source": [
    "#include<stdio.h>\n",
    "#include<limits.h>\n",
    "int main()\n",
    "{\n",
    "    int c,a=5,b=9;\n",
    "    c=b&&++a;\n",
    "    printf(\"%d\",a);\n",
    "}\n"
   ]
  },
  {
   "cell_type": "markdown",
   "metadata": {},
   "source": [
    "#include<stdio.h>\n",
    "#include<limits.h>\n",
    "int main()\n",
    "{\n",
    "    int a=5;\n",
    "    int c=~5;\n",
    "    printf(\"%d\",c);\n",
    "}\n"
   ]
  },
  {
   "cell_type": "markdown",
   "metadata": {},
   "source": [
    "#include<stdio.h>\n",
    "#include<limits.h>\n",
    "int main()\n",
    "{\n",
    "    int a=5,b=235578,c;\n",
    "    if(a==b)\n",
    "     printf(\"yes\\n\");\n",
    "     else\n",
    "     printf(\"no\\n\");\n",
    " printf(\"%d\",a*b);\n",
    "}\n"
   ]
  },
  {
   "cell_type": "markdown",
   "metadata": {},
   "source": [
    "#include<stdio.h>\n",
    "#include<limits.h>\n",
    "int main()\n",
    "{\n",
    "  int a=5,b;\n",
    "  b=sizeof(--a);\n",
    "  printf(\"%d\\n%d\",a,b);\n",
    "}"
   ]
  },
  {
   "cell_type": "markdown",
   "metadata": {},
   "source": [
    "#include<stdio.h>\n",
    "#include<limits.h>\n",
    "int main()\n",
    "{\n",
    "  int a=5,b,c;\n",
    "  c=a?0:1;\n",
    "  printf(\"%d\",c);\n",
    "}"
   ]
  }
 ],
 "metadata": {
  "kernelspec": {
   "display_name": "Python 3",
   "language": "python",
   "name": "python3"
  },
  "language_info": {
   "codemirror_mode": {
    "name": "ipython",
    "version": 3
   },
   "file_extension": ".py",
   "mimetype": "text/x-python",
   "name": "python",
   "nbconvert_exporter": "python",
   "pygments_lexer": "ipython3",
   "version": "3.7.3"
  }
 },
 "nbformat": 4,
 "nbformat_minor": 2
}
